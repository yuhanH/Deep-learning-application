{
 "cells": [
  {
   "cell_type": "code",
   "execution_count": 1,
   "metadata": {},
   "outputs": [],
   "source": [
    "import itk\n",
    "import numpy as np\n",
    "import cv2 \n",
    "import matplotlib.pyplot as plt\n",
    "import glob"
   ]
  },
  {
   "cell_type": "code",
   "execution_count": 81,
   "metadata": {},
   "outputs": [],
   "source": [
    "img_all = [cv2.imread(file, cv2.IMREAD_GRAYSCALE) for file in glob.glob(\"images/covid-chestxray-dataset/images/*.jpg\")]"
   ]
  },
  {
   "cell_type": "code",
   "execution_count": 89,
   "metadata": {},
   "outputs": [],
   "source": [
    "idx = 0\n",
    "output_dir = \"images/histogram/\"\n",
    "for i in range(len(img_all)):\n",
    "    idx = idx + 1\n",
    "    img_i = img_all[i]         \n",
    "    img_i = cv2.resize(img_i, (299, 299), interpolation = cv2.INTER_AREA)\n",
    "    img_i = cv2.equalizeHist(img_i)\n",
    "    file_out = output_dir + str(idx) + \".jpg\"\n",
    "    cv2.imwrite(file_out, img_i) \n",
    "\n",
    "\n",
    "\n",
    "\n"
   ]
  },
  {
   "cell_type": "code",
   "execution_count": 2,
   "metadata": {},
   "outputs": [],
   "source": [
    "\n",
    "from distutils.version import StrictVersion as VS"
   ]
  },
  {
   "cell_type": "code",
   "execution_count": 3,
   "metadata": {},
   "outputs": [],
   "source": [
    "if VS(itk.Version.GetITKVersion()) < VS(\"4.9.0\"):\n",
    "    print(\"ITK 4.9.0 is required.\")\n",
    "    sys.exit(1)\n"
   ]
  },
  {
   "cell_type": "code",
   "execution_count": 4,
   "metadata": {},
   "outputs": [],
   "source": [
    "fixedImageFile = \"img1.jpg\"\n",
    "movingImageFile = \"img2.jpg\"\n",
    "outputImageFile = \"correct2.jpg\"\n",
    "differenceImageAfterFile = \"correct2_after.jpg\"\n",
    "differenceImageBeforeFile =  \"correct2_before.jpg\"\n",
    "\n",
    "PixelType = itk.ctype('float')\n",
    "\n",
    "fixedImage = itk.imread(fixedImageFile, PixelType)\n",
    "movingImage = itk.imread(movingImageFile, PixelType)\n",
    "\n",
    "Dimension = fixedImage.GetImageDimension()\n",
    "FixedImageType = itk.Image[PixelType, Dimension]\n",
    "MovingImageType = itk.Image[PixelType, Dimension]\n",
    "\n",
    "TransformType = itk.TranslationTransform[itk.D, Dimension]\n",
    "initialTransform = TransformType.New()\n",
    "\n",
    "optimizer = itk.RegularStepGradientDescentOptimizerv4.New(\n",
    "        LearningRate=4,\n",
    "        MinimumStepLength=0.001,\n",
    "        RelaxationFactor=0.5,\n",
    "        NumberOfIterations=200)\n",
    "\n",
    "metric = itk.MeanSquaresImageToImageMetricv4[\n",
    "    FixedImageType, MovingImageType].New()"
   ]
  },
  {
   "cell_type": "code",
   "execution_count": 5,
   "metadata": {},
   "outputs": [],
   "source": [
    "registration = itk.ImageRegistrationMethodv4.New(FixedImage=fixedImage,\n",
    "        MovingImage=movingImage,\n",
    "        Metric=metric,\n",
    "        Optimizer=optimizer,\n",
    "        InitialTransform=initialTransform)"
   ]
  },
  {
   "cell_type": "code",
   "execution_count": 6,
   "metadata": {},
   "outputs": [
    {
     "name": "stdout",
     "output_type": "stream",
     "text": [
      "Result = \n",
      " Translation X = -11.754137415272245\n",
      " Translation Y = -7.912214894246912\n",
      " Iterations    = 23\n",
      " Metric value  = 7967.949970951984\n"
     ]
    }
   ],
   "source": [
    "\n",
    "movingInitialTransform = TransformType.New()\n",
    "initialParameters = movingInitialTransform.GetParameters()\n",
    "initialParameters[0] = 0\n",
    "initialParameters[1] = 0\n",
    "movingInitialTransform.SetParameters(initialParameters)\n",
    "registration.SetMovingInitialTransform(movingInitialTransform)\n",
    "\n",
    "identityTransform = TransformType.New()\n",
    "identityTransform.SetIdentity()\n",
    "registration.SetFixedInitialTransform(identityTransform)\n",
    "\n",
    "registration.SetNumberOfLevels(1)\n",
    "registration.SetSmoothingSigmasPerLevel([0])\n",
    "registration.SetShrinkFactorsPerLevel([1])\n",
    "\n",
    "registration.Update()\n",
    "\n",
    "transform = registration.GetTransform()\n",
    "finalParameters = transform.GetParameters()\n",
    "translationAlongX = finalParameters.GetElement(0)\n",
    "translationAlongY = finalParameters.GetElement(1)\n",
    "\n",
    "numberOfIterations = optimizer.GetCurrentIteration()\n",
    "\n",
    "bestValue = optimizer.GetValue()\n",
    "\n",
    "print(\"Result = \")\n",
    "print(\" Translation X = \" + str(translationAlongX))\n",
    "print(\" Translation Y = \" + str(translationAlongY))\n",
    "print(\" Iterations    = \" + str(numberOfIterations))\n",
    "print(\" Metric value  = \" + str(bestValue))\n"
   ]
  },
  {
   "cell_type": "code",
   "execution_count": 7,
   "metadata": {},
   "outputs": [],
   "source": [
    "\n",
    "CompositeTransformType = itk.CompositeTransform[itk.D, Dimension]\n",
    "outputCompositeTransform = CompositeTransformType.New()\n",
    "outputCompositeTransform.AddTransform(movingInitialTransform)\n",
    "outputCompositeTransform.AddTransform(registration.GetModifiableTransform())\n",
    "\n",
    "resampler = itk.ResampleImageFilter.New(Input=movingImage,\n",
    "        Transform=outputCompositeTransform,\n",
    "        UseReferenceImage=True,\n",
    "        ReferenceImage=fixedImage)\n",
    "resampler.SetDefaultPixelValue(100)\n",
    "\n",
    "OutputPixelType = itk.ctype('unsigned char')\n",
    "OutputImageType = itk.Image[OutputPixelType, Dimension]\n",
    "\n",
    "caster = itk.CastImageFilter[FixedImageType,\n",
    "        OutputImageType].New(Input=resampler)\n",
    "\n",
    "writer = itk.ImageFileWriter.New(Input=caster, FileName=outputImageFile)\n",
    "writer.SetFileName(outputImageFile)\n",
    "writer.Update()\n",
    "\n",
    "difference = itk.SubtractImageFilter.New(Input1=fixedImage,\n",
    "        Input2=resampler)\n",
    "\n",
    "intensityRescaler = itk.RescaleIntensityImageFilter[FixedImageType,\n",
    "        OutputImageType].New(\n",
    "            Input=difference,\n",
    "            OutputMinimum=itk.NumericTraits[OutputPixelType].min(),\n",
    "            OutputMaximum=itk.NumericTraits[OutputPixelType].max())\n",
    "\n",
    "resampler.SetDefaultPixelValue(1)\n",
    "writer.SetInput(intensityRescaler.GetOutput())\n",
    "writer.SetFileName(differenceImageAfterFile)\n",
    "writer.Update()\n",
    "\n",
    "resampler.SetTransform(identityTransform)\n",
    "writer.SetFileName(differenceImageBeforeFile)\n",
    "writer.Update()"
   ]
  },
  {
   "cell_type": "code",
   "execution_count": null,
   "metadata": {},
   "outputs": [],
   "source": []
  }
 ],
 "metadata": {
  "kernelspec": {
   "display_name": "Python 3",
   "language": "python",
   "name": "python3"
  },
  "language_info": {
   "codemirror_mode": {
    "name": "ipython",
    "version": 3
   },
   "file_extension": ".py",
   "mimetype": "text/x-python",
   "name": "python",
   "nbconvert_exporter": "python",
   "pygments_lexer": "ipython3",
   "version": "3.7.4"
  }
 },
 "nbformat": 4,
 "nbformat_minor": 2
}
